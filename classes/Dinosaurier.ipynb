{
 "cells": [
  {
   "cell_type": "markdown",
   "metadata": {},
   "source": [
    "# Uebungsaufgabe Klassenprogrammierung"
   ]
  },
  {
   "cell_type": "markdown",
   "metadata": {},
   "source": [
    "## Klassendefinition"
   ]
  },
  {
   "cell_type": "code",
   "execution_count": 2,
   "metadata": {},
   "outputs": [],
   "source": [
    "import pandas as pd"
   ]
  },
  {
   "cell_type": "code",
   "execution_count": 29,
   "metadata": {},
   "outputs": [],
   "source": [
    "class Dinosaurier():\n",
    "    \"\"\"\n",
    "    Speichert die Daten eines Dinosauriers.\n",
    "    Attribute: \n",
    "        name: Name des Dinosauriers\n",
    "        alter: Alter des Dinosauriers in millionen Jahren\n",
    "        gewicht: Gewicht des Dinosauriers in t\n",
    "        hoehe: Hoehe bzw. Laenge des Dinosauriers in m, je nachdem was groeßer ist\n",
    "    Methoden:\n",
    "        BMI: Errechnet den BMI des Dinosauriers. Gibt einen String der den BMI beschreibt zurück\n",
    "    \"\"\"\n",
    "    \n",
    "    def __init__(self, name, alter, gewicht, hoehe):\n",
    "        self.name = name\n",
    "        self.alter = alter\n",
    "        self.gewicht = gewicht\n",
    "        self.hoehe = hoehe\n",
    "        \n",
    "    def bmi(self):\n",
    "        bmi = ((self.gewicht * 1000) / (self.hoehe * self.hoehe))\n",
    "        bmi = round(bmi, 2)\n",
    "        print(\"Der BMI von \" + self.name + \" beträgt \" + str(bmi) + \n",
    "              \". Fuer \" + str(self.alter) + \" millionen Jahre gar nicht so schlecht!\")\n",
    "        "
   ]
  },
  {
   "cell_type": "markdown",
   "metadata": {},
   "source": [
    "## Definition der Objekte"
   ]
  },
  {
   "cell_type": "code",
   "execution_count": 30,
   "metadata": {},
   "outputs": [],
   "source": [
    "bronto = [\"Brontosaurus\", 157, 38, 27]\n",
    "trex = [\"T-Rex\", 68, 14, 12]\n",
    "trice = [\"Triceratops\", 66, 12, 9]\n",
    "\n",
    "brontosaurus = Dinosaurier(bronto[0], bronto[1], bronto[2], bronto[3])\n",
    "tyrannosaurus = Dinosaurier(trex[0], trex[1], trex[2], trex[3])\n",
    "triceratops = Dinosaurier(trice[0], trice[1], trice[2], trice[3])"
   ]
  },
  {
   "cell_type": "code",
   "execution_count": 31,
   "metadata": {},
   "outputs": [
    {
     "name": "stdout",
     "output_type": "stream",
     "text": [
      "Der BMI von Brontosaurus beträgt 52.13. Fuer 157 millionen Jahre gar nicht so schlecht!\n"
     ]
    }
   ],
   "source": [
    "brontosaurus.bmi()"
   ]
  },
  {
   "cell_type": "code",
   "execution_count": 32,
   "metadata": {},
   "outputs": [
    {
     "name": "stdout",
     "output_type": "stream",
     "text": [
      "Der BMI von T-Rex beträgt 97.22. Fuer 68 millionen Jahre gar nicht so schlecht!\n"
     ]
    }
   ],
   "source": [
    "tyrannosaurus.bmi()"
   ]
  },
  {
   "cell_type": "code",
   "execution_count": 33,
   "metadata": {},
   "outputs": [
    {
     "name": "stdout",
     "output_type": "stream",
     "text": [
      "Der BMI von Triceratops beträgt 148.15. Fuer 66 millionen Jahre gar nicht so schlecht!\n"
     ]
    }
   ],
   "source": [
    "triceratops.bmi()"
   ]
  }
 ],
 "metadata": {
  "kernelspec": {
   "display_name": "Python 3",
   "language": "python",
   "name": "python3"
  },
  "language_info": {
   "codemirror_mode": {
    "name": "ipython",
    "version": 3
   },
   "file_extension": ".py",
   "mimetype": "text/x-python",
   "name": "python",
   "nbconvert_exporter": "python",
   "pygments_lexer": "ipython3",
   "version": "3.7.3"
  }
 },
 "nbformat": 4,
 "nbformat_minor": 2
}
