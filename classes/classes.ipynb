{
 "cells": [
  {
   "cell_type": "code",
   "execution_count": 4,
   "metadata": {},
   "outputs": [],
   "source": [
    "class StudentIn():\n",
    "    \"\"\"\n",
    "    Speichert die Daten einer Student*in.\n",
    "    Attribute: ...\n",
    "    Methoden: ...\n",
    "    \"\"\"\n",
    "    arbeitsmoral = \"Hervorragend\"\n",
    "    def __init__(self, vorname, nachname, noten):\n",
    "        self.vorname = vorname\n",
    "        self.nachname = nachname\n",
    "        self.noten = noten\n",
    "        \n",
    "    def notenschnitt(self):\n",
    "        notenschnitt = sum(self.noten) / len(self.noten)\n",
    "        return notenschnitt"
   ]
  },
  {
   "cell_type": "code",
   "execution_count": 5,
   "metadata": {
    "scrolled": true
   },
   "outputs": [
    {
     "name": "stdout",
     "output_type": "stream",
     "text": [
      "\n",
      "    Speichert die Daten einer Student*in.\n",
      "    Attribute: ...\n",
      "    Methoden: ...\n",
      "    \n"
     ]
    }
   ],
   "source": [
    "print(StudentIn.__doc__)"
   ]
  },
  {
   "cell_type": "code",
   "execution_count": 6,
   "metadata": {
    "scrolled": false
   },
   "outputs": [
    {
     "data": {
      "text/plain": [
       "__main__.StudentIn"
      ]
     },
     "execution_count": 6,
     "metadata": {},
     "output_type": "execute_result"
    }
   ],
   "source": [
    "sabine = StudentIn(vorname = \"sabine\", nachname = \"schusster\", noten = [1,3,2,1,3])\n",
    "type(sabine)"
   ]
  },
  {
   "cell_type": "code",
   "execution_count": 7,
   "metadata": {
    "scrolled": true
   },
   "outputs": [
    {
     "name": "stdout",
     "output_type": "stream",
     "text": [
      "Vorname: sabine\n",
      "Nachname: schusster\n",
      "Noten: [1, 3, 2, 1, 3]\n",
      "Arbeitsmoral: Hervorragend\n"
     ]
    }
   ],
   "source": [
    "print(\"Vorname: \" + str(sabine.vorname))\n",
    "print(\"Nachname: \" + str(sabine.nachname))\n",
    "print(\"Noten: \" + str(sabine.noten))\n",
    "print(\"Arbeitsmoral: \" + str(sabine.arbeitsmoral))"
   ]
  },
  {
   "cell_type": "code",
   "execution_count": 8,
   "metadata": {},
   "outputs": [
    {
     "name": "stdout",
     "output_type": "stream",
     "text": [
      "schuster\n"
     ]
    }
   ],
   "source": [
    "sabine.nachname = \"schuster\"\n",
    "print(sabine.nachname)"
   ]
  },
  {
   "cell_type": "code",
   "execution_count": 9,
   "metadata": {},
   "outputs": [
    {
     "name": "stdout",
     "output_type": "stream",
     "text": [
      "Notenschnitt von sabine schuster ist: 2.0\n"
     ]
    }
   ],
   "source": [
    "notenschnitt = sabine.notenschnitt()\n",
    "print(\"Notenschnitt von \" + str(sabine.vorname) + \" \" + str(sabine.nachname) + \" ist: \" + str(notenschnitt))"
   ]
  },
  {
   "cell_type": "code",
   "execution_count": 10,
   "metadata": {},
   "outputs": [
    {
     "name": "stdout",
     "output_type": "stream",
     "text": [
      "Vorname: stefan\n",
      "Nachname: schmidt\n",
      "Noten: [2, 4, 3, 1, 2]\n",
      "Arbeitsmoral: Mittelmäßig\n",
      "Notenschnitt von stefan schmidt ist: 2.4\n"
     ]
    }
   ],
   "source": [
    "stefan = StudentIn(\"stefan\", \"schmidt\", [2,4,3,1,2])\n",
    "stefan.arbeitsmoral = \"Mittelmäßig\"\n",
    "\n",
    "print(\"Vorname: \" + str(stefan.vorname))\n",
    "print(\"Nachname: \" + str(stefan.nachname))\n",
    "print(\"Noten: \" + str(stefan.noten))\n",
    "print(\"Arbeitsmoral: \" + str(stefan.arbeitsmoral))\n",
    "\n",
    "print(\"Notenschnitt von \" + str(stefan.vorname) + \" \" + str(stefan.nachname) + \" ist: \" + str(stefan.notenschnitt()))"
   ]
  }
 ],
 "metadata": {
  "kernelspec": {
   "display_name": "Python 3",
   "language": "python",
   "name": "python3"
  },
  "language_info": {
   "codemirror_mode": {
    "name": "ipython",
    "version": 3
   },
   "file_extension": ".py",
   "mimetype": "text/x-python",
   "name": "python",
   "nbconvert_exporter": "python",
   "pygments_lexer": "ipython3",
   "version": "3.7.3"
  }
 },
 "nbformat": 4,
 "nbformat_minor": 2
}
